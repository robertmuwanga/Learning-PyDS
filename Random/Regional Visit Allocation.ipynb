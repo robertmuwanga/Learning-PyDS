{
 "cells": [
  {
   "cell_type": "code",
   "execution_count": 47,
   "metadata": {},
   "outputs": [],
   "source": [
    "# Import some libraries\n",
    "import random\n",
    "\n",
    "# Set random seed\n",
    "random.seed(1234)\n",
    "\n",
    "# Define SteerCo members, ExCo and regional districts\n",
    "steerco = {\n",
    "    'static_members' : ['Jack Daniels',\\\n",
    "                  'Jack Bauer', \\\n",
    "                  'Optimus Prime', \\\n",
    "                  'Lex Luthor', \\\n",
    "                  'Clark Kent', \\\n",
    "                  'Johnnie Walker', \\\n",
    "                  'Captain Morgan', \\\n",
    "                  'Dragneel'], \n",
    "    \n",
    "    'random_members' : ['', \\\n",
    "                      'Arthur Okello', \\\n",
    "                      'Francis Kintu', \\\n",
    "                      'Joseph Kalinaki', \\\n",
    "                      'Joseph Ntale', \\\n",
    "                      'Micheal Sendiwala', \\\n",
    "                      'Samuel A. Muwakanya', \\\n",
    "                      'Simon Hector Ocen', \\\n",
    "                      'Victor Karamagi']\n",
    "}\n",
    "\n",
    "# Regional districts with assigned ExCo members\n",
    "regional_districts = {\n",
    "    'Jinja' : { \n",
    "        'exco' : ['Barbra Teddy  Arimi', 'Milton Owor', 'Edward Senyonjo'], \\\n",
    "        'steerco' : ['Julian Mulindwa']\n",
    "    }, \\\n",
    "    'Mbarara' : {\n",
    "        'exco' : ['Stevens Mwanje', 'Geoffrey W. Sajjabi', 'Barigye Geofrey'], \\\n",
    "        'steerco' : ['Robert Muwanga', 'Rwabahima Collin']\n",
    "    }, \\\n",
    "    'Gulu' : {\n",
    "        'exco' : ['Gerald Mugabi', 'Elijah Kitaka', 'Jean Mutabazi'], \\\n",
    "        'steerco' : ['Alex Rumanyika']\n",
    "    }\n",
    "}"
   ]
  },
  {
   "cell_type": "code",
   "execution_count": 48,
   "metadata": {},
   "outputs": [
    {
     "name": "stdout",
     "output_type": "stream",
     "text": [
      "{'Jinja': {'exco': ['Barbra Teddy  Arimi', 'Milton Owor', 'Edward Senyonjo'], 'steerco': ['Julian Mulindwa']}, 'Mbarara': {'exco': ['Stevens Mwanje', 'Geoffrey W. Sajjabi', 'Barigye Geofrey'], 'steerco': ['Robert Muwanga', 'Rwabahima Collin']}, 'Gulu': {'exco': ['Gerald Mugabi', 'Elijah Kitaka', 'Jean Mutabazi'], 'steerco': ['Alex Rumanyika']}}\n"
     ]
    }
   ],
   "source": [
    "print(regional_districts)"
   ]
  },
  {
   "cell_type": "code",
   "execution_count": 49,
   "metadata": {},
   "outputs": [],
   "source": [
    "districts = list(regional_districts.keys())\n",
    "number_of_regions = len(regional_districts)\n",
    "\n",
    "# Random allocate SteerCo members\n",
    "for i in range(len(steerco['random_members'])):\n",
    "    member = random.choice(steerco['random_members'])\n",
    "    steerco['random_members'].remove(member)\n",
    "    regional_districts[districts[i % number_of_regions]]['steerco'].append(member)"
   ]
  },
  {
   "cell_type": "code",
   "execution_count": 50,
   "metadata": {},
   "outputs": [
    {
     "name": "stdout",
     "output_type": "stream",
     "text": [
      "{'Jinja': {'exco': ['Barbra Teddy  Arimi', 'Milton Owor', 'Edward Senyonjo'], 'steerco': ['Julian Mulindwa', 'Simon Hector Ocen', 'Francis Kintu', 'Samuel A. Muwakanya']}, 'Mbarara': {'exco': ['Stevens Mwanje', 'Geoffrey W. Sajjabi', 'Barigye Geofrey'], 'steerco': ['Robert Muwanga', 'Rwabahima Collin', 'Arthur Okello', 'Victor Karamagi', 'Joseph Ntale']}, 'Gulu': {'exco': ['Gerald Mugabi', 'Elijah Kitaka', 'Jean Mutabazi'], 'steerco': ['Alex Rumanyika', 'Abdul K. Makubuya', 'Joseph Kalinaki', 'Micheal Sendiwala']}}\n"
     ]
    }
   ],
   "source": [
    "print(regional_districts)"
   ]
  },
  {
   "cell_type": "code",
   "execution_count": 51,
   "metadata": {},
   "outputs": [
    {
     "name": "stdout",
     "output_type": "stream",
     "text": [
      "Region : Jinja\n",
      "ExCo : ['Barbra Teddy  Arimi', 'Milton Owor', 'Edward Senyonjo']\n",
      "Steerco : ['Julian Mulindwa', 'Simon Hector Ocen', 'Francis Kintu', 'Samuel A. Muwakanya']\n",
      "\n",
      "\n",
      "Region : Mbarara\n",
      "ExCo : ['Stevens Mwanje', 'Geoffrey W. Sajjabi', 'Barigye Geofrey']\n",
      "Steerco : ['Robert Muwanga', 'Rwabahima Collin', 'Arthur Okello', 'Victor Karamagi', 'Joseph Ntale']\n",
      "\n",
      "\n",
      "Region : Gulu\n",
      "ExCo : ['Gerald Mugabi', 'Elijah Kitaka', 'Jean Mutabazi']\n",
      "Steerco : ['Alex Rumanyika', 'Abdul K. Makubuya', 'Joseph Kalinaki', 'Micheal Sendiwala']\n",
      "\n",
      "\n"
     ]
    }
   ],
   "source": [
    "for key in regional_districts.keys() :\n",
    "    print('Region : {}'.format(key))\n",
    "    print('ExCo : {}'.format(regional_districts[key]['exco']))\n",
    "    print('Steerco : {}'.format(regional_districts[key]['steerco']))\n",
    "    print('\\n')"
   ]
  },
  {
   "cell_type": "code",
   "execution_count": null,
   "metadata": {},
   "outputs": [],
   "source": []
  }
 ],
 "metadata": {
  "kernelspec": {
   "display_name": "Python 3",
   "language": "python",
   "name": "python3"
  },
  "language_info": {
   "codemirror_mode": {
    "name": "ipython",
    "version": 3
   },
   "file_extension": ".py",
   "mimetype": "text/x-python",
   "name": "python",
   "nbconvert_exporter": "python",
   "pygments_lexer": "ipython3",
   "version": "3.6.5"
  }
 },
 "nbformat": 4,
 "nbformat_minor": 2
}
