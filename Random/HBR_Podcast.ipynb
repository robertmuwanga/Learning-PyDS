{
 "cells": [
  {
   "cell_type": "code",
   "execution_count": 26,
   "metadata": {},
   "outputs": [],
   "source": [
    "# Let's get the necessary libraries\n",
    "import pandas as pd\n",
    "import requests\n",
    "import os\n",
    "import wget\n",
    "from bs4 import BeautifulSoup\n",
    "\n",
    "# Set the URL for the RSS feed\n",
    "url = 'http://feeds.harvardbusiness.org/harvardbusiness/ideacast'\n",
    "\n",
    "# List podcast episodes of interest. Put 'None' for all.\n",
    "podcasts = ['660', '659', '651', '648', '647', '642', '640', '630', '628', '625', '616']\n",
    "\n",
    "# Scape podcast listing from podcast list\n",
    "rss = BeautifulSoup(requests.get(url).text, features='lxml')"
   ]
  },
  {
   "cell_type": "code",
   "execution_count": 29,
   "metadata": {},
   "outputs": [],
   "source": [
    "titles = [title.string for title in (rss.find_all('title'))][2:] # the first two are irrelevant\n",
    "descriptions = [description.string for description in (rss.find_all('description'))][1:] # the first is irrelevant\n",
    "links = [link['url'] for link in (rss.find_all('enclosure'))]\n",
    "\n",
    "indices_with_podcasts = []\n",
    "podcast_dict = {}\n",
    "\n",
    "if podcasts == None:\n",
    "    raise NotImplementedError() # To be implemented in due time\n",
    "\n",
    "for podcast in podcasts : \n",
    "    for index, item in enumerate(titles) :\n",
    "        if podcast in item:\n",
    "            indices_with_podcasts.append((index, podcast))\n",
    "\n",
    "for item in indices_with_podcasts:\n",
    "    podcast_dict[item[1]] = {'title' : titles[item[0]], 'description' : descriptions[item[0]], 'link' : links[item[0]]}\n",
    "\n",
    "df = pd.DataFrame.from_dict(podcast_dict, orient='index')\n",
    "df.to_excel('HBR.xlsx')"
   ]
  },
  {
   "cell_type": "code",
   "execution_count": null,
   "metadata": {},
   "outputs": [],
   "source": []
  }
 ],
 "metadata": {
  "kernelspec": {
   "display_name": "Python 3",
   "language": "python",
   "name": "python3"
  },
  "language_info": {
   "codemirror_mode": {
    "name": "ipython",
    "version": 3
   },
   "file_extension": ".py",
   "mimetype": "text/x-python",
   "name": "python",
   "nbconvert_exporter": "python",
   "pygments_lexer": "ipython3",
   "version": "3.6.5"
  }
 },
 "nbformat": 4,
 "nbformat_minor": 2
}
