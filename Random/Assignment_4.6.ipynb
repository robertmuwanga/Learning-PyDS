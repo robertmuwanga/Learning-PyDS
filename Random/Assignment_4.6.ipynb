{
 "cells": [
  {
   "cell_type": "code",
   "execution_count": 83,
   "metadata": {},
   "outputs": [
    {
     "name": "stdout",
     "output_type": "stream",
     "text": [
      "\"5000-0000-0000\": violates rule #1\n",
      "\"4000-0000-0000\": passes rule #1, violates rule #2\n",
      "\"4007-6000-0000\": passes rules #1-2, violates rule #3\n",
      "\"4037-6000-0000\": passes rules #1-3, violates rule #4\n",
      "\"4094-3460-2754\": passes all rules\n"
     ]
    }
   ],
   "source": [
    "def verify(number) :\n",
    "    number_of_rules_passed = 0\n",
    "    number_list = [num for num in number if num.isnumeric()]\n",
    "    \n",
    "#    print('Executing rules for {}'.format(number))\n",
    "    \n",
    "    try: \n",
    "        if int(number_list[0]) == 4 : \n",
    "            number_of_rules_passed += 1\n",
    "        else :\n",
    "            raise ValueError(1) \n",
    "\n",
    "        # Rule 2\n",
    "        if (int(number_list[3]) - int(number_list[4])  == 1) : \n",
    "            number_of_rules_passed += 1  \n",
    "        else : \n",
    "            raise ValueError(2)\n",
    "\n",
    "        # Rule 3\n",
    "        if (sum(map(int, number_list)) % 4 == 0) : \n",
    "            number_of_rules_passed += 1 \n",
    "        else :\n",
    "            raise ValueError(3)\n",
    "\n",
    "        # Rule 4\n",
    "        if sum(list(map(lambda x : int(''.join(x)), [number_list[:2], number_list[6:8]]))) == 100 : \n",
    "            number_of_rules_passed += 1 \n",
    "        else :\n",
    "            raise ValueError(4)\n",
    "    \n",
    "    except ValueError as e: \n",
    "        if e.args[0] == 1:\n",
    "            return '\"{}\": violates rule #1'.format(number)\n",
    "        elif number_of_rules_passed == 1:\n",
    "            return '\"{}\": passes rule #{}, violates rule #{}'.format(number, number_of_rules_passed, e.args[0])\n",
    "        else :\n",
    "            return '\"{}\": passes rules #1-{}, violates rule #{}'.format(number, number_of_rules_passed, e.args[0])\n",
    "    \n",
    "    return '\"{}\": passes all rules'.format(number)\n",
    "\n",
    "input = ['5000-0000-0000', '4000-0000-0000', '4007-6000-0000', '4037-6000-0000', '4094-3460-2754']\n",
    "\n",
    "for item in input: \n",
    "    print(verify(item))"
   ]
  }
 ],
 "metadata": {
  "kernelspec": {
   "display_name": "Python 3",
   "language": "python",
   "name": "python3"
  },
  "language_info": {
   "codemirror_mode": {
    "name": "ipython",
    "version": 3
   },
   "file_extension": ".py",
   "mimetype": "text/x-python",
   "name": "python",
   "nbconvert_exporter": "python",
   "pygments_lexer": "ipython3",
   "version": "3.6.5"
  }
 },
 "nbformat": 4,
 "nbformat_minor": 2
}
